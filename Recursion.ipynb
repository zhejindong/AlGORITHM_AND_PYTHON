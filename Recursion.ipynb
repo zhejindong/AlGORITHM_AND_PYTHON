{
 "cells": [
  {
   "cell_type": "markdown",
   "metadata": {},
   "source": [
    "### Intuition behind Recursion \n",
    "\n",
    "Think about recursion as a induction process: assume we know something(samiliar problem as old one), can we solve the original problem efficiently? If yes, recursion can be nice candidate.\n",
    "\n",
    "How to decomposite the problem and reassemble the problem!"
   ]
  },
  {
   "cell_type": "code",
   "execution_count": 1,
   "metadata": {},
   "outputs": [],
   "source": [
    "## Hanoi tower problem \n",
    "def hanoi(n,fro,to,spare):\n",
    "    if n==1:\n",
    "        print(\"from\",fro,\"to\",to)\n",
    "    else:\n",
    "        hanoi(n-1,fro,spare,to)\n",
    "        hanoi(1,fro,to,spare)\n",
    "        hanoi(n-1,spare,to,fro)"
   ]
  },
  {
   "cell_type": "code",
   "execution_count": 4,
   "metadata": {},
   "outputs": [
    {
     "name": "stdout",
     "output_type": "stream",
     "text": [
      "from 1 to 3\n",
      "from 1 to 2\n",
      "from 3 to 2\n"
     ]
    }
   ],
   "source": [
    "hanoi(2,1,2,3)"
   ]
  },
  {
   "cell_type": "code",
   "execution_count": 9,
   "metadata": {},
   "outputs": [],
   "source": [
    "## Palindrome detection \n",
    "\n",
    "def pal_dection(s):\n",
    "    # transform the sting to ideal format\n",
    "    def transform(s):\n",
    "        ans=[]\n",
    "        s=s.lower()\n",
    "        letter=\"abcdefghijklmnopqrstuvwxyz\"\n",
    "        for l in s:\n",
    "            if l in letter:\n",
    "                ans.append(l)\n",
    "        return ans\n",
    "    \n",
    "    def if_pal(s):\n",
    "        if len(s)==0 or len(s)==1:\n",
    "            return True \n",
    "        else:\n",
    "            return s[0]==s[-1] and if_pal(s[1:-1])\n",
    "        \n",
    "    return if_pal(transform(s))"
   ]
  },
  {
   "cell_type": "code",
   "execution_count": 14,
   "metadata": {},
   "outputs": [
    {
     "name": "stdout",
     "output_type": "stream",
     "text": [
      "True\n",
      "False\n",
      "True\n",
      "True\n"
     ]
    }
   ],
   "source": [
    "s=\"abba\"\n",
    "print(pal_dection(s))\n",
    "s=\"abca\"\n",
    "print(pal_dection(s))\n",
    "s=\"ab_ba\"\n",
    "print(pal_dection(s))\n",
    "s=\"a\"\n",
    "print(pal_dection(s))"
   ]
  },
  {
   "cell_type": "code",
   "execution_count": 32,
   "metadata": {},
   "outputs": [],
   "source": [
    "## Fibonacci \n",
    "\n",
    "def fib(n):\n",
    "    if n==2 or n==1:\n",
    "        return 1\n",
    "    else:\n",
    "        return fib(n-1)+fib(n-2)"
   ]
  },
  {
   "cell_type": "markdown",
   "metadata": {},
   "source": [
    "#### Comment on Fib problem:\n",
    "\n",
    "Overflow of stack.\n",
    "\n",
    "Repeteated computation over and over.\n",
    "\n",
    "To tackle such problem, dictionary is a good auxiliary tool to memoize the intermediate result. "
   ]
  },
  {
   "cell_type": "code",
   "execution_count": 22,
   "metadata": {},
   "outputs": [],
   "source": [
    "def fib_mem(n,d):\n",
    "    if n in d:\n",
    "        return d[n]\n",
    "    else:\n",
    "        result=fib_mem(n-1,d)+fib_mem(n-2,d)\n",
    "        d[n]=result\n",
    "        return result"
   ]
  },
  {
   "cell_type": "code",
   "execution_count": 37,
   "metadata": {},
   "outputs": [
    {
     "data": {
      "text/plain": [
       "12586269025"
      ]
     },
     "execution_count": 37,
     "metadata": {},
     "output_type": "execute_result"
    }
   ],
   "source": [
    "d={}\n",
    "d[1]=1\n",
    "d[2]=1\n",
    "fib_mem(50,d)"
   ]
  },
  {
   "cell_type": "code",
   "execution_count": null,
   "metadata": {},
   "outputs": [],
   "source": []
  }
 ],
 "metadata": {
  "kernelspec": {
   "display_name": "py36",
   "language": "python",
   "name": "py36"
  },
  "language_info": {
   "codemirror_mode": {
    "name": "ipython",
    "version": 3
   },
   "file_extension": ".py",
   "mimetype": "text/x-python",
   "name": "python",
   "nbconvert_exporter": "python",
   "pygments_lexer": "ipython3",
   "version": "3.6.8"
  }
 },
 "nbformat": 4,
 "nbformat_minor": 2
}
