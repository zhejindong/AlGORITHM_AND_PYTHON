{
 "cells": [
  {
   "cell_type": "code",
   "execution_count": 3,
   "metadata": {},
   "outputs": [
    {
     "name": "stdout",
     "output_type": "stream",
     "text": [
      "type in anything123\n",
      "123\n"
     ]
    }
   ],
   "source": [
    "temp=int(input(\"type in anything\"))\n",
    "print(temp)"
   ]
  },
  {
   "cell_type": "markdown",
   "metadata": {},
   "source": [
    "input( ) will always return a string, so if using numbers we need to cast them with int or float"
   ]
  },
  {
   "cell_type": "code",
   "execution_count": 7,
   "metadata": {},
   "outputs": [
    {
     "name": "stdout",
     "output_type": "stream",
     "text": [
      "You are in the Lost Forest\n",
      "****************\n",
      "****************\n",
      " :)\n",
      "****************\n",
      "****************\n",
      "Go left or right? right\n",
      "You are in the Lost Forest\n",
      "****************\n",
      "******       ***\n",
      "  (╯°□°）╯︵ ┻━┻\n",
      "****************\n",
      "****************\n",
      "Go left or right? left\n",
      "\n",
      "You got out of the Lost Forest!\n",
      "\\o/\n"
     ]
    }
   ],
   "source": [
    "####################\n",
    "## EXAMPLE: while loops \n",
    "## Try expanding this code to show a sad face if you go right\n",
    "## twice and flip the table any more times than that. \n",
    "## Hint: use a counter\n",
    "####################\n",
    "n = input(\"You are in the Lost Forest\\n****************\\n****************\\n :)\\n****************\\n****************\\nGo left or right? \")\n",
    "while n == \"right\" or n == \"Right\":\n",
    "    n = input(\"You are in the Lost Forest\\n****************\\n******       ***\\n  (╯°□°）╯︵ ┻━┻\\n****************\\n****************\\nGo left or right? \")\n",
    "print(\"\\nYou got out of the Lost Forest!\\n\\o/\")\n",
    "\n"
   ]
  },
  {
   "cell_type": "code",
   "execution_count": 15,
   "metadata": {},
   "outputs": [],
   "source": [
    "# Find the cubic root of a number:\n",
    "\n",
    "# Brute force:\n",
    "\n",
    "def BF(num):\n",
    "    for i in range(int(abs((num))+1)):\n",
    "        if i**3>=num:\n",
    "            break\n",
    "    if i**3!=num:\n",
    "        print(\"{} is not a perfect cube\".format(i-1))\n",
    "    else:\n",
    "        if num<0:\n",
    "            print(-i)\n",
    "        else:\n",
    "            print(i)"
   ]
  },
  {
   "cell_type": "code",
   "execution_count": 16,
   "metadata": {},
   "outputs": [
    {
     "name": "stdout",
     "output_type": "stream",
     "text": [
      "2\n"
     ]
    }
   ],
   "source": [
    "BF(8)"
   ]
  },
  {
   "cell_type": "code",
   "execution_count": 17,
   "metadata": {},
   "outputs": [
    {
     "name": "stdout",
     "output_type": "stream",
     "text": [
      "2 is not a perfect cube\n"
     ]
    }
   ],
   "source": [
    "BF(9)"
   ]
  },
  {
   "cell_type": "code",
   "execution_count": 18,
   "metadata": {},
   "outputs": [
    {
     "name": "stdout",
     "output_type": "stream",
     "text": [
      "-1 is not a perfect cube\n"
     ]
    }
   ],
   "source": [
    "BF(-8.5)"
   ]
  },
  {
   "cell_type": "code",
   "execution_count": 68,
   "metadata": {},
   "outputs": [],
   "source": [
    "# approximation method \n",
    "\n",
    "def AP(num):\n",
    "    tol=0.001\n",
    "    guess=0\n",
    "    incre=0.00001\n",
    "    error=abs(guess**3-abs(num))\n",
    "    search_num=0\n",
    "    while(error>tol and guess<abs(num)):\n",
    "        guess=guess+incre\n",
    "        error=abs(guess**3-abs(num))\n",
    "        search_num+=1\n",
    "    print(str(search_num)+\" times searching\")\n",
    "    if guess>abs(num):\n",
    "        return(\"failed searching\")    \n",
    "    if num<0:\n",
    "        return(-guess)\n",
    "    else:\n",
    "        return(guess)"
   ]
  },
  {
   "cell_type": "code",
   "execution_count": 69,
   "metadata": {},
   "outputs": [
    {
     "name": "stdout",
     "output_type": "stream",
     "text": [
      "199992 times searching\n"
     ]
    },
    {
     "data": {
      "text/plain": [
       "1.9999200000046344"
      ]
     },
     "execution_count": 69,
     "metadata": {},
     "output_type": "execute_result"
    }
   ],
   "source": [
    "AP(8)"
   ]
  },
  {
   "cell_type": "code",
   "execution_count": 70,
   "metadata": {},
   "outputs": [
    {
     "name": "stdout",
     "output_type": "stream",
     "text": [
      "208001 times searching\n"
     ]
    },
    {
     "data": {
      "text/plain": [
       "2.080010000005159"
      ]
     },
     "execution_count": 70,
     "metadata": {},
     "output_type": "execute_result"
    }
   ],
   "source": [
    "AP(9)"
   ]
  },
  {
   "cell_type": "code",
   "execution_count": 71,
   "metadata": {},
   "outputs": [
    {
     "name": "stdout",
     "output_type": "stream",
     "text": [
      "199992 times searching\n"
     ]
    },
    {
     "data": {
      "text/plain": [
       "-1.9999200000046344"
      ]
     },
     "execution_count": 71,
     "metadata": {},
     "output_type": "execute_result"
    }
   ],
   "source": [
    "AP(-8)"
   ]
  },
  {
   "cell_type": "code",
   "execution_count": 72,
   "metadata": {},
   "outputs": [
    {
     "name": "stdout",
     "output_type": "stream",
     "text": [
      "205664 times searching\n"
     ]
    },
    {
     "data": {
      "text/plain": [
       "-2.056640000005006"
      ]
     },
     "execution_count": 72,
     "metadata": {},
     "output_type": "execute_result"
    }
   ],
   "source": [
    "AP(-8.7)"
   ]
  },
  {
   "cell_type": "code",
   "execution_count": 89,
   "metadata": {},
   "outputs": [],
   "source": [
    "# bisection search method \n",
    "\n",
    "def AP(num):\n",
    "    if abs(num)<1:\n",
    "        high=1\n",
    "    else:\n",
    "        high=abs(num)\n",
    "    tol=0.001\n",
    "    search_num=0\n",
    "    #high=abs(num)\n",
    "    low=0\n",
    "    guess=(high+low)/2.0\n",
    "    error=abs(guess**3-abs(num))\n",
    "    while(error>tol):\n",
    "        if guess**3>abs(num):\n",
    "            high=guess \n",
    "        else:\n",
    "            low=guess \n",
    "        guess=(high+low)/2.0\n",
    "        error=abs(guess**3-abs(num))\n",
    "        search_num+=1\n",
    "    \n",
    "    print(str(search_num)+\" times searching\")\n",
    "    if num<0:\n",
    "        return(-guess)\n",
    "    else:\n",
    "        return(guess)"
   ]
  },
  {
   "cell_type": "code",
   "execution_count": 90,
   "metadata": {},
   "outputs": [
    {
     "name": "stdout",
     "output_type": "stream",
     "text": [
      "1 times searching\n"
     ]
    },
    {
     "data": {
      "text/plain": [
       "-2.0"
      ]
     },
     "execution_count": 90,
     "metadata": {},
     "output_type": "execute_result"
    }
   ],
   "source": [
    "AP(-8)"
   ]
  },
  {
   "cell_type": "code",
   "execution_count": 91,
   "metadata": {},
   "outputs": [
    {
     "name": "stdout",
     "output_type": "stream",
     "text": [
      "15 times searching\n"
     ]
    },
    {
     "data": {
      "text/plain": [
       "2.0801239013671875"
      ]
     },
     "execution_count": 91,
     "metadata": {},
     "output_type": "execute_result"
    }
   ],
   "source": [
    "AP(9)"
   ]
  },
  {
   "cell_type": "code",
   "execution_count": 92,
   "metadata": {},
   "outputs": [
    {
     "name": "stdout",
     "output_type": "stream",
     "text": [
      "15 times searching\n"
     ]
    },
    {
     "data": {
      "text/plain": [
       "-2.0567184448242193"
      ]
     },
     "execution_count": 92,
     "metadata": {},
     "output_type": "execute_result"
    }
   ],
   "source": [
    "AP(-8.7)"
   ]
  },
  {
   "cell_type": "code",
   "execution_count": 93,
   "metadata": {},
   "outputs": [
    {
     "name": "stdout",
     "output_type": "stream",
     "text": [
      "9 times searching\n"
     ]
    },
    {
     "data": {
      "text/plain": [
       "0.7939453125"
      ]
     },
     "execution_count": 93,
     "metadata": {},
     "output_type": "execute_result"
    }
   ],
   "source": [
    "AP(0.5)"
   ]
  },
  {
   "cell_type": "markdown",
   "metadata": {},
   "source": [
    "We can see bisection search is so so so powerful than linear bruteforce\n",
    "Besides, the opitmal missing result is also solved because we need not add a constant step!"
   ]
  },
  {
   "cell_type": "code",
   "execution_count": null,
   "metadata": {},
   "outputs": [],
   "source": []
  }
 ],
 "metadata": {
  "kernelspec": {
   "display_name": "py36",
   "language": "python",
   "name": "py36"
  },
  "language_info": {
   "codemirror_mode": {
    "name": "ipython",
    "version": 3
   },
   "file_extension": ".py",
   "mimetype": "text/x-python",
   "name": "python",
   "nbconvert_exporter": "python",
   "pygments_lexer": "ipython3",
   "version": "3.6.8"
  }
 },
 "nbformat": 4,
 "nbformat_minor": 2
}
