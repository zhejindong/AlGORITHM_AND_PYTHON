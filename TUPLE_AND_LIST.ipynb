{
 "cells": [
  {
   "cell_type": "markdown",
   "metadata": {},
   "source": [
    "### Data Structure---Tuple and List "
   ]
  },
  {
   "cell_type": "code",
   "execution_count": 1,
   "metadata": {},
   "outputs": [],
   "source": [
    "def test_tuple(atuple):\n",
    "    num=()\n",
    "    word=()\n",
    "    for i in atuple:\n",
    "        num=num+(i[0],)\n",
    "        if i[1] not in word:\n",
    "            word=word+(i[1],)\n",
    "    \n",
    "    Max=max(num)\n",
    "    Min=min(num)\n",
    "    Unique=len(word)\n",
    "    return(Max,Min,Unique)"
   ]
  },
  {
   "cell_type": "code",
   "execution_count": 3,
   "metadata": {},
   "outputs": [
    {
     "data": {
      "text/plain": [
       "(2010, 1995, 2)"
      ]
     },
     "execution_count": 3,
     "metadata": {},
     "output_type": "execute_result"
    }
   ],
   "source": [
    "atuple=((1995,\"Jane\"),(2010,\"Jane\"),(2008,\"May\"))\n",
    "test_tuple(atuple)"
   ]
  },
  {
   "cell_type": "markdown",
   "metadata": {},
   "source": [
    "#### Comment on tuple:\n",
    "\n",
    "1 immutable \n",
    "\n",
    "2 (val,) to represent a tuple with only one member \n",
    "\n",
    "3 can be used to hold data collection as returned result for function "
   ]
  },
  {
   "cell_type": "markdown",
   "metadata": {},
   "source": [
    "### LIST"
   ]
  },
  {
   "cell_type": "code",
   "execution_count": 5,
   "metadata": {},
   "outputs": [
    {
     "name": "stdout",
     "output_type": "stream",
     "text": [
      "['a', 'b']\n",
      "[1, 2, ['a', 'b']]\n",
      "[1, 2, ['a', 'b']]\n"
     ]
    }
   ],
   "source": [
    "# many to one \n",
    "nest=['a','b']\n",
    "list1=[1,2,nest]\n",
    "list2=list1\n",
    "print(nest)\n",
    "print(list1)\n",
    "print(list2)"
   ]
  },
  {
   "cell_type": "code",
   "execution_count": 6,
   "metadata": {},
   "outputs": [
    {
     "name": "stdout",
     "output_type": "stream",
     "text": [
      "['a', 'no']\n",
      "[1, 2, ['a', 'no']]\n",
      "[1, 2, ['a', 'no']]\n"
     ]
    }
   ],
   "source": [
    "nest[1]='no'\n",
    "print(nest)\n",
    "print(list1)\n",
    "print(list2)"
   ]
  },
  {
   "cell_type": "code",
   "execution_count": 7,
   "metadata": {},
   "outputs": [
    {
     "name": "stdout",
     "output_type": "stream",
     "text": [
      "['a', 'no']\n",
      "[1, 'yeah', ['a', 'no']]\n",
      "[1, 'yeah', ['a', 'no']]\n"
     ]
    }
   ],
   "source": [
    "list1[1]='yeah'\n",
    "print(nest)\n",
    "print(list1)\n",
    "print(list2)"
   ]
  },
  {
   "cell_type": "code",
   "execution_count": 8,
   "metadata": {},
   "outputs": [
    {
     "name": "stdout",
     "output_type": "stream",
     "text": [
      "['a', 'b']\n",
      "[1, 2, ['a', 'b']]\n",
      "[1, 2, ['a', 'b']]\n"
     ]
    }
   ],
   "source": [
    "nest=['a','b']\n",
    "list1=[1,2,nest[:]]\n",
    "list2=list1[:]\n",
    "print(nest)\n",
    "print(list1)\n",
    "print(list2)"
   ]
  },
  {
   "cell_type": "code",
   "execution_count": 9,
   "metadata": {},
   "outputs": [
    {
     "name": "stdout",
     "output_type": "stream",
     "text": [
      "['a', 'no']\n",
      "[1, 2, ['a', 'b']]\n",
      "[1, 2, ['a', 'b']]\n"
     ]
    }
   ],
   "source": [
    "nest[1]='no'\n",
    "print(nest)\n",
    "print(list1)\n",
    "print(list2)"
   ]
  },
  {
   "cell_type": "code",
   "execution_count": 10,
   "metadata": {},
   "outputs": [
    {
     "name": "stdout",
     "output_type": "stream",
     "text": [
      "['a', 'no']\n",
      "[1, 'yeah', ['a', 'b']]\n",
      "[1, 2, ['a', 'b']]\n"
     ]
    }
   ],
   "source": [
    "list1[1]='yeah'\n",
    "print(nest)\n",
    "print(list1)\n",
    "print(list2)"
   ]
  },
  {
   "cell_type": "markdown",
   "metadata": {},
   "source": [
    "#### Comment on list structure \n",
    "\n",
    "list is an object, an object can be assigned many different alias, however due to list being mutable, any change will affect all the others. \n",
    "\n",
    "Same rule for nested list. \n",
    "\n",
    "To avoid such problem, we can use list [:]  (clone), which means pick out the value from list and create a new list with exact those values."
   ]
  },
  {
   "cell_type": "code",
   "execution_count": 11,
   "metadata": {},
   "outputs": [
    {
     "name": "stdout",
     "output_type": "stream",
     "text": [
      "[2, 3, 4]\n"
     ]
    }
   ],
   "source": [
    "def remove_dup(l1,l2):\n",
    "    for e in l1:\n",
    "        if e in l2:\n",
    "            l1.remove(e)\n",
    "            \n",
    "l1=[1,2,3,4]\n",
    "l2=[1,2,5,6]\n",
    "remove_dup(l1,l2)\n",
    "print(l1)"
   ]
  },
  {
   "cell_type": "markdown",
   "metadata": {},
   "source": [
    "#### Never mutate list while looping over it !!!\n",
    "\n",
    "The problem is 2 was skipped. \n",
    "\n",
    "The counter was not updated however the length of l1 changed. To fix such problem, we can use a temporary list."
   ]
  },
  {
   "cell_type": "code",
   "execution_count": 13,
   "metadata": {},
   "outputs": [
    {
     "name": "stdout",
     "output_type": "stream",
     "text": [
      "[3, 4]\n"
     ]
    }
   ],
   "source": [
    "def remove_dup(l1,l2):\n",
    "    temp_l1=l1[:]\n",
    "    for e in temp_l1:\n",
    "        if e in l2:\n",
    "            l1.remove(e)\n",
    "            \n",
    "l1=[1,2,3,4]\n",
    "l2=[1,2,5,6]\n",
    "remove_dup(l1,l2)\n",
    "print(l1)"
   ]
  },
  {
   "cell_type": "code",
   "execution_count": null,
   "metadata": {},
   "outputs": [],
   "source": []
  }
 ],
 "metadata": {
  "kernelspec": {
   "display_name": "py36",
   "language": "python",
   "name": "py36"
  },
  "language_info": {
   "codemirror_mode": {
    "name": "ipython",
    "version": 3
   },
   "file_extension": ".py",
   "mimetype": "text/x-python",
   "name": "python",
   "nbconvert_exporter": "python",
   "pygments_lexer": "ipython3",
   "version": "3.6.8"
  }
 },
 "nbformat": 4,
 "nbformat_minor": 2
}
