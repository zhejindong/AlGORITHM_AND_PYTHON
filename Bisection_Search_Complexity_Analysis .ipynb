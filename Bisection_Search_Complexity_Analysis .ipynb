{
 "cells": [
  {
   "cell_type": "code",
   "execution_count": 20,
   "metadata": {},
   "outputs": [],
   "source": [
    "# we want to say whether a number is in a sorted list \n",
    "\n",
    "def recursive_bi(L,e):\n",
    "    if len(L)==0:\n",
    "        return False \n",
    "    if len(L)==1:\n",
    "        if L[0]==e:\n",
    "            return True\n",
    "        else:\n",
    "            return False\n",
    "    \n",
    "    midle=len(L)//2 # double // is getting the integer part \n",
    "    \n",
    "    if L[midle]==e:\n",
    "        return True\n",
    "    elif L[midle]>e:\n",
    "        return recursive_bi(L[:midle],e)\n",
    "    elif L[midle]<e:\n",
    "        return recursive_bi(L[midle:],e)"
   ]
  },
  {
   "cell_type": "code",
   "execution_count": 21,
   "metadata": {},
   "outputs": [
    {
     "name": "stdout",
     "output_type": "stream",
     "text": [
      "True\n"
     ]
    }
   ],
   "source": [
    "L=[1,2,3]\n",
    "e=2\n",
    "print(recursive_bi(L,e))"
   ]
  },
  {
   "cell_type": "code",
   "execution_count": 22,
   "metadata": {},
   "outputs": [
    {
     "name": "stdout",
     "output_type": "stream",
     "text": [
      "False\n"
     ]
    }
   ],
   "source": [
    "L=[1,2,3]\n",
    "e=4\n",
    "print(recursive_bi(L,e))"
   ]
  },
  {
   "cell_type": "code",
   "execution_count": 23,
   "metadata": {},
   "outputs": [
    {
     "name": "stdout",
     "output_type": "stream",
     "text": [
      "True\n"
     ]
    }
   ],
   "source": [
    "L=[1,2,3,8]\n",
    "e=8\n",
    "print(recursive_bi(L,e))"
   ]
  },
  {
   "cell_type": "markdown",
   "metadata": {},
   "source": [
    "### Comment on the algorithm \n",
    "\n",
    "The time complexity is n*log(n). We call the function log(n) times, and in each call we copy the list L[midle:] which means copying the list and create a new envrionment list using the copied value. \n",
    "\n",
    "To fix such a problem, we can avoid copying the list everytime calling the function. We can just use two pointers to track the start and end of the searching scope. Then the time complexity is log(n)*constant "
   ]
  },
  {
   "cell_type": "code",
   "execution_count": 47,
   "metadata": {},
   "outputs": [],
   "source": [
    "# we want to say whether a number is in a sorted list \n",
    "\n",
    "def recursive_bi(L,low,high,e):\n",
    "    print(low,high)\n",
    "    if high<low:\n",
    "        return False \n",
    "    if high==low:\n",
    "        if L[high]==e:\n",
    "            return True\n",
    "        else:\n",
    "            return False\n",
    "    \n",
    "    midle=(low+high)//2 # double // is getting the integer part \n",
    "    \n",
    "    if L[midle]==e:\n",
    "        return True\n",
    "    elif L[midle]>e:\n",
    "        return recursive_bi(L,low,midle-1,e)\n",
    "    elif L[midle]<e:\n",
    "        return recursive_bi(L,midle+1,high,e)"
   ]
  },
  {
   "cell_type": "code",
   "execution_count": 50,
   "metadata": {},
   "outputs": [
    {
     "name": "stdout",
     "output_type": "stream",
     "text": [
      "0 0\n",
      "True\n"
     ]
    }
   ],
   "source": [
    "L=[1]\n",
    "e=1\n",
    "print(recursive_bi(L,0,len(L)-1,e))"
   ]
  },
  {
   "cell_type": "code",
   "execution_count": 53,
   "metadata": {},
   "outputs": [
    {
     "name": "stdout",
     "output_type": "stream",
     "text": [
      "0 2\n",
      "0 0\n",
      "True\n"
     ]
    }
   ],
   "source": [
    "L=[1,2,3]\n",
    "e=1\n",
    "print(recursive_bi(L,0,len(L)-1,e))"
   ]
  },
  {
   "cell_type": "code",
   "execution_count": 55,
   "metadata": {},
   "outputs": [
    {
     "name": "stdout",
     "output_type": "stream",
     "text": [
      "0 3\n",
      "2 3\n",
      "3 3\n",
      "True\n"
     ]
    }
   ],
   "source": [
    "L=[1,2,3,9]\n",
    "e=9\n",
    "print(recursive_bi(L,0,len(L)-1,e))"
   ]
  },
  {
   "cell_type": "markdown",
   "metadata": {},
   "source": [
    "### Comment on Binary search \n",
    "\n",
    "When using pointers, we must update midle with midle-1 or it will stuck when there are 2 numbers left and never converge!\n"
   ]
  },
  {
   "cell_type": "code",
   "execution_count": 90,
   "metadata": {},
   "outputs": [],
   "source": [
    "## eg power set using recursion \n",
    "\n",
    "def re_power_set(L):\n",
    "    res=[]\n",
    "    if len(L)==0:\n",
    "        res=[[]]\n",
    "        return res\n",
    "    else:\n",
    "        smaller=re_power_set(L[:-1])\n",
    "        \n",
    "    print(smaller)     \n",
    "    new=[]\n",
    "    for small in smaller:\n",
    "        print(small)\n",
    "        small.append(L[-1])\n",
    "        print(small)\n",
    "        new.append(small)\n",
    "        print(new)\n",
    "        \n",
    "    print(smaller)\n",
    "    return new+smaller"
   ]
  },
  {
   "cell_type": "code",
   "execution_count": 92,
   "metadata": {},
   "outputs": [
    {
     "name": "stdout",
     "output_type": "stream",
     "text": [
      "[[]]\n",
      "[]\n",
      "[1]\n",
      "[[1]]\n",
      "[[1]]\n",
      "[[1], [1]]\n",
      "[1]\n",
      "[1, 2]\n",
      "[[1, 2]]\n",
      "[1, 2]\n",
      "[1, 2, 2]\n",
      "[[1, 2, 2], [1, 2, 2]]\n",
      "[[1, 2, 2], [1, 2, 2]]\n"
     ]
    },
    {
     "data": {
      "text/plain": [
       "[[1, 2, 2], [1, 2, 2], [1, 2, 2], [1, 2, 2]]"
      ]
     },
     "execution_count": 92,
     "metadata": {},
     "output_type": "execute_result"
    }
   ],
   "source": [
    "L=[1,2]\n",
    "re_power_set(L)"
   ]
  },
  {
   "cell_type": "code",
   "execution_count": 93,
   "metadata": {},
   "outputs": [],
   "source": [
    "## eg power set using recursion \n",
    "\n",
    "def re_power_set(L):\n",
    "    res=[]\n",
    "    if len(L)==0:\n",
    "        res=[[]]\n",
    "        return res\n",
    "    else:\n",
    "        smaller=re_power_set(L[:-1])\n",
    "        \n",
    "    print(smaller)     \n",
    "    new=[]\n",
    "    for small in smaller:\n",
    "        print(small)\n",
    "        new.append(small+(L[-1:]))\n",
    "        print(new)\n",
    "        \n",
    "    print(smaller)\n",
    "    return new+smaller"
   ]
  },
  {
   "cell_type": "code",
   "execution_count": 94,
   "metadata": {},
   "outputs": [
    {
     "name": "stdout",
     "output_type": "stream",
     "text": [
      "[[]]\n",
      "[]\n",
      "[[1]]\n",
      "[[]]\n",
      "[[1], []]\n",
      "[1]\n",
      "[[1, 2]]\n",
      "[]\n",
      "[[1, 2], [2]]\n",
      "[[1], []]\n"
     ]
    },
    {
     "data": {
      "text/plain": [
       "[[1, 2], [2], [1], []]"
      ]
     },
     "execution_count": 94,
     "metadata": {},
     "output_type": "execute_result"
    }
   ],
   "source": [
    "L=[1,2]\n",
    "re_power_set(L)"
   ]
  },
  {
   "cell_type": "markdown",
   "metadata": {},
   "source": [
    "###  Comment on List in recursion \n",
    "\n",
    "The first algorithm fails because it consider smaller as a global variable and everytime we updated the nested list in smaller, we will change smaller as well, which is not ideal! That is due to the side effect on append which mutate the list. However, + will return a new li\n",
    "st without changing the original smaller. \n",
    "#### Be careful with append!!!!!\n",
    "\n",
    "#### Time complexity analysis\n",
    "Exponetial 2**n because of the loop over smaller! \n"
   ]
  },
  {
   "cell_type": "code",
   "execution_count": null,
   "metadata": {},
   "outputs": [],
   "source": []
  }
 ],
 "metadata": {
  "kernelspec": {
   "display_name": "py36",
   "language": "python",
   "name": "py36"
  },
  "language_info": {
   "codemirror_mode": {
    "name": "ipython",
    "version": 3
   },
   "file_extension": ".py",
   "mimetype": "text/x-python",
   "name": "python",
   "nbconvert_exporter": "python",
   "pygments_lexer": "ipython3",
   "version": "3.6.8"
  }
 },
 "nbformat": 4,
 "nbformat_minor": 2
}
